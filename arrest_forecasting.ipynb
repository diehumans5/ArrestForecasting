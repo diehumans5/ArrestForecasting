{
 "cells": [
  {
   "cell_type": "code",
   "execution_count": 1,
   "metadata": {},
   "outputs": [],
   "source": [
    "from geopy.geocoders import Nominatim\n",
    "import geopy\n",
    "from math import *\n",
    "import networkx as nx\n",
    "import pandas as pd\n",
    "import random\n",
    "import openpyxl"
   ]
  },
  {
   "cell_type": "code",
   "execution_count": 2,
   "metadata": {},
   "outputs": [],
   "source": [
    "def distance_between(coords1,coords2):\n",
    "    radius_of_earth = 6373\n",
    "    lat1 = radians(coords1[0])\n",
    "    lon1 = radians(coords1[1])\n",
    "    lat2 = radians(coords2[0])\n",
    "    lon2 = radians(coords2[1])\n",
    "    dlon = lon2 - lon1\n",
    "    dlat = lat2 - lat1\n",
    "    a = sin(dlat / 2)**2 + cos(lat1) * cos(lat2) * sin(dlon / 2)**2\n",
    "    c = 2 * atan2(sqrt(a), sqrt(1 - a))\n",
    "    return round(radius_of_earth*c,2)"
   ]
  },
  {
   "cell_type": "code",
   "execution_count": 3,
   "metadata": {},
   "outputs": [],
   "source": [
    "cartels = pd.read_csv('BACRIM2020_Nodes.csv')\n",
    "alliances = pd.read_csv('BACRIM2020_Alliances.csv')\n",
    "rivals = pd.read_csv('BACRIM2020_Rivals.csv')\n",
    "members = pd.read_excel('BACRIM2020_individuals.xlsx')\n",
    "states = pd.read_csv(\"states.csv\")"
   ]
  },
  {
   "cell_type": "code",
   "execution_count": 4,
   "metadata": {},
   "outputs": [
    {
     "name": "stderr",
     "output_type": "stream",
     "text": [
      "C:\\Users\\Pranav Sridhar\\AppData\\Local\\Temp\\ipykernel_24932\\208044534.py:3: FutureWarning: Calling float on a single element Series is deprecated and will raise a TypeError in the future. Use float(ser.iloc[0]) instead\n",
      "  lat = float(states.loc[states['place']==i][\"latitude\"])\n",
      "C:\\Users\\Pranav Sridhar\\AppData\\Local\\Temp\\ipykernel_24932\\208044534.py:4: FutureWarning: Calling float on a single element Series is deprecated and will raise a TypeError in the future. Use float(ser.iloc[0]) instead\n",
      "  long = float(states.loc[states['place']==i][\"longitude\"])\n"
     ]
    }
   ],
   "source": [
    "coordinates = dict()\n",
    "for i in list(states['place']):\n",
    "    lat = float(states.loc[states['place']==i][\"latitude\"])\n",
    "    long = float(states.loc[states['place']==i][\"longitude\"])\n",
    "    coordinates[i] = [lat,long]"
   ]
  },
  {
   "cell_type": "code",
   "execution_count": 5,
   "metadata": {},
   "outputs": [],
   "source": [
    "graph = nx.DiGraph()"
   ]
  },
  {
   "cell_type": "code",
   "execution_count": 6,
   "metadata": {},
   "outputs": [],
   "source": [
    "for i in list(states['place']):\n",
    "    graph.add_node(i)"
   ]
  },
  {
   "cell_type": "code",
   "execution_count": 7,
   "metadata": {},
   "outputs": [],
   "source": [
    "for i in list(states['place']):\n",
    "    for j in list(states['place']):\n",
    "        if i!=j and distance_between(coordinates[i],coordinates[j])<510:\n",
    "            graph.add_edge(i,j,label = \"IS_NEIGHBOUR\")\n",
    "            graph.add_edge(j,i,label = \"IS_NEIGHBOUR\")"
   ]
  },
  {
   "cell_type": "code",
   "execution_count": 8,
   "metadata": {},
   "outputs": [],
   "source": [
    "for i in range(len(cartels['Group'])):\n",
    "    cartel = cartels['Group'][i]\n",
    "    graph.add_node(cartel)\n",
    "    graph.add_edge(cartel,cartels['State'][i],label = \"IN_REGION\")"
   ]
  },
  {
   "cell_type": "code",
   "execution_count": 9,
   "metadata": {},
   "outputs": [],
   "source": [
    "for i in range(len(alliances['Group'])):\n",
    "    graph.add_edge(alliances['Group'][i],alliances['RGroup'][i],label = \"IS_ALLY\")\n",
    "\n",
    "for i in range(len(rivals['Group'])):\n",
    "    graph.add_edge(rivals['Group'][i],rivals['RGroup'][i],label = \"IS_RIVAL\")"
   ]
  },
  {
   "cell_type": "code",
   "execution_count": 10,
   "metadata": {},
   "outputs": [],
   "source": [
    "true_members = members.dropna(subset=['person'])\n",
    "true_members = true_members.reset_index()\n",
    "true_members = true_members.drop(columns=['index'])"
   ]
  },
  {
   "cell_type": "code",
   "execution_count": 11,
   "metadata": {},
   "outputs": [],
   "source": [
    "for i in range(len(true_members['person'])):\n",
    "    cart_members = true_members['person'][i].split(sep='; ')\n",
    "    if true_members['group'][i] in list(graph.nodes()):\n",
    "        for j in cart_members:\n",
    "            name = j.split(', ')[0]\n",
    "            graph.add_node(name)\n",
    "            graph.nodes[name]['type'] = 'person'\n",
    "            graph.add_edge(name,true_members['state'][i],label = \"WAS_SPOTTED_IN\")\n",
    "            graph.add_edge(name,true_members['group'][i],label = \"IS_PART_OF\")"
   ]
  },
  {
   "cell_type": "code",
   "execution_count": 12,
   "metadata": {},
   "outputs": [],
   "source": [
    "import matplotlib.pyplot as plt"
   ]
  },
  {
   "cell_type": "code",
   "execution_count": 16,
   "metadata": {},
   "outputs": [],
   "source": [
    "from matplotlib import pylab\n",
    "import networkx as nx\n",
    "\n",
    "def save_graph(graph,file_name):\n",
    "    #initialze Figure\n",
    "    plt.figure(num=None, figsize=(20, 20), dpi=80)\n",
    "    plt.axis('off')\n",
    "    fig = plt.figure(1)\n",
    "    pos = nx.spring_layout(graph)\n",
    "    nx.draw_networkx_nodes(graph,pos)\n",
    "    nx.draw_networkx_edges(graph,pos)\n",
    "    nx.draw_networkx_labels(graph,pos)\n",
    "\n",
    "    cut = 1.00\n",
    "    xmax = cut * max(xx for xx, yy in pos.values())\n",
    "    ymax = cut * max(yy for xx, yy in pos.values())\n",
    "    plt.xlim(0, xmax)\n",
    "    plt.ylim(0, ymax)\n",
    "\n",
    "    plt.savefig(file_name,bbox_inches=\"tight\")\n",
    "    pylab.close()\n",
    "    del fig\n",
    "\n",
    "#Assuming that the graph g has nodes and edges entered\n",
    "save_graph(graph,\"my_graph.pdf\")"
   ]
  },
  {
   "cell_type": "code",
   "execution_count": 19,
   "metadata": {},
   "outputs": [],
   "source": [
    "nx.write_graphml(graph, 'cartels.graphml')"
   ]
  }
 ],
 "metadata": {
  "kernelspec": {
   "display_name": "Python 3",
   "language": "python",
   "name": "python3"
  },
  "language_info": {
   "codemirror_mode": {
    "name": "ipython",
    "version": 3
   },
   "file_extension": ".py",
   "mimetype": "text/x-python",
   "name": "python",
   "nbconvert_exporter": "python",
   "pygments_lexer": "ipython3",
   "version": "3.9.13"
  }
 },
 "nbformat": 4,
 "nbformat_minor": 2
}
